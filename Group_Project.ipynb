{
  "nbformat": 4,
  "nbformat_minor": 0,
  "metadata": {
    "colab": {
      "provenance": [],
      "authorship_tag": "ABX9TyOJdqBcbObJ+2LdZgrQh4CJ",
      "include_colab_link": true
    },
    "kernelspec": {
      "name": "python3",
      "display_name": "Python 3"
    },
    "language_info": {
      "name": "python"
    }
  },
  "cells": [
    {
      "cell_type": "markdown",
      "metadata": {
        "id": "view-in-github",
        "colab_type": "text"
      },
      "source": [
        "<a href=\"https://colab.research.google.com/github/Tobaho/Numerical_Mthods/blob/main/Group_Project.ipynb\" target=\"_parent\"><img src=\"https://colab.research.google.com/assets/colab-badge.svg\" alt=\"Open In Colab\"/></a>"
      ]
    },
    {
      "cell_type": "markdown",
      "source": [
        "# Project 1\n",
        "\n"
      ],
      "metadata": {
        "id": "vKA0N85OFIVB"
      }
    },
    {
      "cell_type": "markdown",
      "source": [
        "**Participants**: Oluwatobi Afolabi"
      ],
      "metadata": {
        "id": "T4AqHl6LFV5Y"
      }
    },
    {
      "cell_type": "markdown",
      "source": [
        "#Part 1: Errors"
      ],
      "metadata": {
        "id": "ylKch6p5FfGH"
      }
    },
    {
      "cell_type": "code",
      "execution_count": null,
      "metadata": {
        "id": "8AzgytkZEfaY"
      },
      "outputs": [],
      "source": [
        "def true_relative_error(true_value, approx_value):\n",
        "    true_error = abs(true_value - approx_value)\n",
        "    relative_error = true_error / abs(true_value)\n",
        "    return true_error, relative_error\n",
        "\n",
        "def approx_relative_error(old_value, new_value):\n",
        "    approx_error = abs(new_value - old_value)\n",
        "    if old_value != 0:\n",
        "        approx_relative_error = approx_error / abs(old_value)\n",
        "    else:\n",
        "        approx_relative_error = float('inf')\n",
        "    return approx_error, approx_relative_error\n"
      ]
    },
    {
      "cell_type": "markdown",
      "source": [
        "The true value and approx value arguments are passed to the true relative error method. The absolute true error and the relative true error are calculated and returned as a tuple.\n",
        "\n",
        "Old value and New Value are the two arguments that the approx relative error function accepts. Both the absolute and the relative approximations errors are computed, and the results are returned as a tuple. As division by zero is illogical, the function produces an indefinite relative error if the old value is zero."
      ],
      "metadata": {
        "id": "FdLKDAzdFG5P"
      }
    },
    {
      "cell_type": "markdown",
      "source": [
        "#Part 2"
      ],
      "metadata": {
        "id": "AnMU6cc-F3Al"
      }
    },
    {
      "cell_type": "markdown",
      "source": [
        "f(x) = sin(x) and we will then expand the function at the center x = 0.\n",
        "\n"
      ],
      "metadata": {
        "id": "qa5Va6XaGCFL"
      }
    },
    {
      "cell_type": "code",
      "source": [
        "import math\n",
        "\n",
        "def sin_taylor_series(x, n):\n",
        "    result = 0\n",
        "    for i in range(n):\n",
        "        sign = (-1)**i\n",
        "        term = x**(2*i+1) / math.factorial(2*i+1)\n",
        "        result += sign * term\n",
        "    return result\n",
        "\n",
        "x = 0.1\n",
        "\n",
        "for i in range(1, 21):\n",
        "    approx = sin_taylor_series(x, i)\n",
        "    print(f\"Degree {i} approximation: {approx}\")\n"
      ],
      "metadata": {
        "colab": {
          "base_uri": "https://localhost:8080/"
        },
        "id": "vtW0XvFMFmmc",
        "outputId": "ae1c99b7-411e-4afd-a0a4-99cdf4090604"
      },
      "execution_count": null,
      "outputs": [
        {
          "output_type": "stream",
          "name": "stdout",
          "text": [
            "Degree 1 approximation: 0.1\n",
            "Degree 2 approximation: 0.09983333333333334\n",
            "Degree 3 approximation: 0.09983341666666667\n",
            "Degree 4 approximation: 0.09983341664682541\n",
            "Degree 5 approximation: 0.09983341664682817\n",
            "Degree 6 approximation: 0.09983341664682817\n",
            "Degree 7 approximation: 0.09983341664682817\n",
            "Degree 8 approximation: 0.09983341664682817\n",
            "Degree 9 approximation: 0.09983341664682817\n",
            "Degree 10 approximation: 0.09983341664682817\n",
            "Degree 11 approximation: 0.09983341664682817\n",
            "Degree 12 approximation: 0.09983341664682817\n",
            "Degree 13 approximation: 0.09983341664682817\n",
            "Degree 14 approximation: 0.09983341664682817\n",
            "Degree 15 approximation: 0.09983341664682817\n",
            "Degree 16 approximation: 0.09983341664682817\n",
            "Degree 17 approximation: 0.09983341664682817\n",
            "Degree 18 approximation: 0.09983341664682817\n",
            "Degree 19 approximation: 0.09983341664682817\n",
            "Degree 20 approximation: 0.09983341664682817\n"
          ]
        }
      ]
    }
  ]
}